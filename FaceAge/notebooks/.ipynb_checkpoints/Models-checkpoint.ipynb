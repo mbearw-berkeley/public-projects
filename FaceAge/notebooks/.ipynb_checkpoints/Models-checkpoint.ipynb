{
 "cells": [
  {
   "cell_type": "code",
   "execution_count": 1,
   "metadata": {
    "id": "zm9172Rb8SiO"
   },
   "outputs": [],
   "source": [
    "%matplotlib inline\n",
    "import numpy as np\n",
    "import pandas as pd\n",
    "import matplotlib.pyplot as plt\n",
    "import seaborn as sns\n",
    "from xgboost import XGBClassifier\n",
    "from sklearn.neural_network import MLPClassifier\n",
    "from sklearn.naive_bayes import MultinomialNB\n",
    "from sklearn.naive_bayes import BernoulliNB\n",
    "from sklearn.linear_model import LogisticRegression\n",
    "from sklearn.preprocessing import LabelEncoder\n",
    "from sklearn.feature_extraction import DictVectorizer\n",
    "from sklearn.metrics import accuracy_score, confusion_matrix\n",
    "from sklearn.model_selection import train_test_split"
   ]
  },
  {
   "cell_type": "markdown",
   "metadata": {},
   "source": [
    "# Models \n",
    "\n",
    "Here we implement our model iteration. We'll be investigating the performance of a Naive Bayes Classifier, A Logistic Regression Classifier, XGBoost Classifier, and a Neural Net. "
   ]
  },
  {
   "cell_type": "code",
   "execution_count": 2,
   "metadata": {
    "id": "32tt6uwhONKp"
   },
   "outputs": [],
   "source": [
    "raw_data = pd.read_csv(\"../data/to_neural_net.csv\")\n",
    "data = raw_data.drop(columns = [\"path\",\"landmarks\"])"
   ]
  },
  {
   "cell_type": "code",
   "execution_count": 3,
   "metadata": {},
   "outputs": [],
   "source": [
    "def encode_variables(dataset,target):\n",
    "    encoder = LabelEncoder()\n",
    "    encoder.fit(dataset[target])\n",
    "    dataset[target+\"_encoded\"] = encoder.transform(dataset[target])\n",
    "    return dataset.drop(columns = [target],inplace=True)"
   ]
  },
  {
   "cell_type": "code",
   "execution_count": 4,
   "metadata": {},
   "outputs": [],
   "source": [
    "encode_variables(data,\"ethnicity\")\n",
    "encode_variables(data,\"gender\")"
   ]
  },
  {
   "cell_type": "code",
   "execution_count": 5,
   "metadata": {
    "colab": {
     "base_uri": "https://localhost:8080/",
     "height": 496
    },
    "id": "gKH81PUhgLbB",
    "outputId": "82fb2abb-4653-4497-9f49-f9572f888f47",
    "scrolled": false
   },
   "outputs": [],
   "source": [
    "data['age_encoded'] = pd.cut(x=data['age'], \n",
    "                                bins=np.arange(0,130,10), \n",
    "                                labels = np.arange(12))\n",
    "data.drop(columns=[\"age\"],inplace=True)"
   ]
  },
  {
   "cell_type": "code",
   "execution_count": 6,
   "metadata": {
    "scrolled": false
   },
   "outputs": [
    {
     "data": {
      "text/html": [
       "<div>\n",
       "<style scoped>\n",
       "    .dataframe tbody tr th:only-of-type {\n",
       "        vertical-align: middle;\n",
       "    }\n",
       "\n",
       "    .dataframe tbody tr th {\n",
       "        vertical-align: top;\n",
       "    }\n",
       "\n",
       "    .dataframe thead th {\n",
       "        text-align: right;\n",
       "    }\n",
       "</style>\n",
       "<table border=\"1\" class=\"dataframe\">\n",
       "  <thead>\n",
       "    <tr style=\"text-align: right;\">\n",
       "      <th></th>\n",
       "      <th>nose2lip</th>\n",
       "      <th>lip2chin</th>\n",
       "      <th>len_between_eyes</th>\n",
       "      <th>left_eyelid_len</th>\n",
       "      <th>right_eyelid_len</th>\n",
       "      <th>nose_width</th>\n",
       "      <th>size_of_mouth</th>\n",
       "      <th>nose_len</th>\n",
       "      <th>bottom_lip_width</th>\n",
       "      <th>left_eye_size</th>\n",
       "      <th>right_eye_size</th>\n",
       "      <th>ethnicity_encoded</th>\n",
       "      <th>gender_encoded</th>\n",
       "      <th>age_encoded</th>\n",
       "    </tr>\n",
       "  </thead>\n",
       "  <tbody>\n",
       "    <tr>\n",
       "      <th>0</th>\n",
       "      <td>0.127843</td>\n",
       "      <td>0.172767</td>\n",
       "      <td>0.237232</td>\n",
       "      <td>0.187906</td>\n",
       "      <td>0.179991</td>\n",
       "      <td>0.153473</td>\n",
       "      <td>0.274431</td>\n",
       "      <td>0.283629</td>\n",
       "      <td>0.060333</td>\n",
       "      <td>0.145301</td>\n",
       "      <td>0.109268</td>\n",
       "      <td>0</td>\n",
       "      <td>1</td>\n",
       "      <td>0</td>\n",
       "    </tr>\n",
       "    <tr>\n",
       "      <th>1</th>\n",
       "      <td>0.115510</td>\n",
       "      <td>0.146110</td>\n",
       "      <td>0.275589</td>\n",
       "      <td>0.212916</td>\n",
       "      <td>0.201710</td>\n",
       "      <td>0.155617</td>\n",
       "      <td>0.248926</td>\n",
       "      <td>0.263344</td>\n",
       "      <td>0.078643</td>\n",
       "      <td>0.122885</td>\n",
       "      <td>0.084790</td>\n",
       "      <td>0</td>\n",
       "      <td>1</td>\n",
       "      <td>0</td>\n",
       "    </tr>\n",
       "    <tr>\n",
       "      <th>2</th>\n",
       "      <td>0.093780</td>\n",
       "      <td>0.214220</td>\n",
       "      <td>0.256911</td>\n",
       "      <td>0.193784</td>\n",
       "      <td>0.204183</td>\n",
       "      <td>0.151439</td>\n",
       "      <td>0.279955</td>\n",
       "      <td>0.264790</td>\n",
       "      <td>0.077230</td>\n",
       "      <td>0.121487</td>\n",
       "      <td>0.094426</td>\n",
       "      <td>0</td>\n",
       "      <td>1</td>\n",
       "      <td>0</td>\n",
       "    </tr>\n",
       "    <tr>\n",
       "      <th>3</th>\n",
       "      <td>0.087586</td>\n",
       "      <td>0.221280</td>\n",
       "      <td>0.266966</td>\n",
       "      <td>0.170970</td>\n",
       "      <td>0.172216</td>\n",
       "      <td>0.181050</td>\n",
       "      <td>0.357491</td>\n",
       "      <td>0.256329</td>\n",
       "      <td>0.069628</td>\n",
       "      <td>0.121071</td>\n",
       "      <td>0.074953</td>\n",
       "      <td>0</td>\n",
       "      <td>1</td>\n",
       "      <td>0</td>\n",
       "    </tr>\n",
       "    <tr>\n",
       "      <th>4</th>\n",
       "      <td>0.093075</td>\n",
       "      <td>0.274444</td>\n",
       "      <td>0.275523</td>\n",
       "      <td>0.153957</td>\n",
       "      <td>0.150599</td>\n",
       "      <td>0.191064</td>\n",
       "      <td>0.422118</td>\n",
       "      <td>0.252346</td>\n",
       "      <td>0.054845</td>\n",
       "      <td>0.095940</td>\n",
       "      <td>0.049664</td>\n",
       "      <td>0</td>\n",
       "      <td>1</td>\n",
       "      <td>0</td>\n",
       "    </tr>\n",
       "  </tbody>\n",
       "</table>\n",
       "</div>"
      ],
      "text/plain": [
       "   nose2lip  lip2chin  len_between_eyes  left_eyelid_len  right_eyelid_len  \\\n",
       "0  0.127843  0.172767          0.237232         0.187906          0.179991   \n",
       "1  0.115510  0.146110          0.275589         0.212916          0.201710   \n",
       "2  0.093780  0.214220          0.256911         0.193784          0.204183   \n",
       "3  0.087586  0.221280          0.266966         0.170970          0.172216   \n",
       "4  0.093075  0.274444          0.275523         0.153957          0.150599   \n",
       "\n",
       "   nose_width  size_of_mouth  nose_len  bottom_lip_width  left_eye_size  \\\n",
       "0    0.153473       0.274431  0.283629          0.060333       0.145301   \n",
       "1    0.155617       0.248926  0.263344          0.078643       0.122885   \n",
       "2    0.151439       0.279955  0.264790          0.077230       0.121487   \n",
       "3    0.181050       0.357491  0.256329          0.069628       0.121071   \n",
       "4    0.191064       0.422118  0.252346          0.054845       0.095940   \n",
       "\n",
       "   right_eye_size  ethnicity_encoded  gender_encoded age_encoded  \n",
       "0        0.109268                  0               1           0  \n",
       "1        0.084790                  0               1           0  \n",
       "2        0.094426                  0               1           0  \n",
       "3        0.074953                  0               1           0  \n",
       "4        0.049664                  0               1           0  "
      ]
     },
     "execution_count": 6,
     "metadata": {},
     "output_type": "execute_result"
    }
   ],
   "source": [
    "data.head()"
   ]
  },
  {
   "cell_type": "code",
   "execution_count": 9,
   "metadata": {},
   "outputs": [
    {
     "name": "stderr",
     "output_type": "stream",
     "text": [
      "C:\\Users\\19168\\anaconda3\\lib\\site-packages\\sklearn\\linear_model\\_logistic.py:940: ConvergenceWarning: lbfgs failed to converge (status=1):\n",
      "STOP: TOTAL NO. of ITERATIONS REACHED LIMIT.\n",
      "\n",
      "Increase the number of iterations (max_iter) or scale the data as shown in:\n",
      "    https://scikit-learn.org/stable/modules/preprocessing.html\n",
      "Please also refer to the documentation for alternative solver options:\n",
      "    https://scikit-learn.org/stable/modules/linear_model.html#logistic-regression\n",
      "  extra_warning_msg=_LOGISTIC_SOLVER_CONVERGENCE_MSG)\n",
      "C:\\Users\\19168\\anaconda3\\lib\\site-packages\\sklearn\\neural_network\\_multilayer_perceptron.py:470: ConvergenceWarning: lbfgs failed to converge (status=1):\n",
      "STOP: TOTAL NO. of ITERATIONS REACHED LIMIT.\n",
      "\n",
      "Increase the number of iterations (max_iter) or scale the data as shown in:\n",
      "    https://scikit-learn.org/stable/modules/preprocessing.html\n",
      "  self.n_iter_ = _check_optimize_result(\"lbfgs\", opt_res, self.max_iter)\n",
      "C:\\Users\\19168\\anaconda3\\lib\\site-packages\\sklearn\\linear_model\\_logistic.py:940: ConvergenceWarning: lbfgs failed to converge (status=1):\n",
      "STOP: TOTAL NO. of ITERATIONS REACHED LIMIT.\n",
      "\n",
      "Increase the number of iterations (max_iter) or scale the data as shown in:\n",
      "    https://scikit-learn.org/stable/modules/preprocessing.html\n",
      "Please also refer to the documentation for alternative solver options:\n",
      "    https://scikit-learn.org/stable/modules/linear_model.html#logistic-regression\n",
      "  extra_warning_msg=_LOGISTIC_SOLVER_CONVERGENCE_MSG)\n",
      "C:\\Users\\19168\\anaconda3\\lib\\site-packages\\sklearn\\neural_network\\_multilayer_perceptron.py:470: ConvergenceWarning: lbfgs failed to converge (status=1):\n",
      "STOP: TOTAL NO. of ITERATIONS REACHED LIMIT.\n",
      "\n",
      "Increase the number of iterations (max_iter) or scale the data as shown in:\n",
      "    https://scikit-learn.org/stable/modules/preprocessing.html\n",
      "  self.n_iter_ = _check_optimize_result(\"lbfgs\", opt_res, self.max_iter)\n",
      "C:\\Users\\19168\\anaconda3\\lib\\site-packages\\sklearn\\neural_network\\_multilayer_perceptron.py:470: ConvergenceWarning: lbfgs failed to converge (status=1):\n",
      "STOP: TOTAL NO. of ITERATIONS REACHED LIMIT.\n",
      "\n",
      "Increase the number of iterations (max_iter) or scale the data as shown in:\n",
      "    https://scikit-learn.org/stable/modules/preprocessing.html\n",
      "  self.n_iter_ = _check_optimize_result(\"lbfgs\", opt_res, self.max_iter)\n"
     ]
    },
    {
     "data": {
      "image/png": "[encoded data removed]",
      "text/plain": [
       "<Figure size 720x720 with 3 Axes>"
      ]
     },
     "metadata": {
      "needs_background": "light"
     },
     "output_type": "display_data"
    }
   ],
   "source": [
    "def run_analysis(df,targets):\n",
    "    fig,axs = plt.subplots(3,figsize=(10,10))\n",
    "    plt.tight_layout(pad=5)\n",
    "    neural = MLPClassifier(hidden_layer_sizes = (10, 10), max_iter=100, alpha=0.0001,solver='lbfgs', verbose=10,tol=0.000000001)\n",
    "    logistic = LogisticRegression(penalty=\"l2\")\n",
    "    models = [MultinomialNB(),logistic,neural,XGBClassifier()]\n",
    "    model_names = [\"Logistic Regression\",\"Naive Bayes\",\"XGBoost\",\"NeuralNet\"]\n",
    "    for col,target in enumerate(targets):\n",
    "        accuracies = []\n",
    "        for n,model in enumerate(models):\n",
    "            if target == \"gender_encoded\" and n==3:\n",
    "                model = XGBClassifier(objective=\"binary:logistic\") \n",
    "            y = df[target]\n",
    "            X = df.drop(columns=targets)\n",
    "            if target == \"ethinicity_encoded\":\n",
    "                X_train,X_test,y_train,y_test = train_test_split(X,y,test_size=.3,stratify=X[\"ethnicity_encoded\"])\n",
    "                \n",
    "            X_train,X_test,y_train,y_test = train_test_split(X,y,test_size=.3)\n",
    "            \n",
    "            model.fit(X_train,y_train)\n",
    "            accuracies.append(accuracy_score(y_test,model.predict(X_test)))\n",
    "        sns.barplot(accuracies,model_names,ax=axs[col])\n",
    "        axs[col].set_xlim(0,1)\n",
    "        axs[col].set_xlabel(\"Accuracy\")\n",
    "        axs[col].set_ylabel(\"Model\")\n",
    "        axs[col].set_title(target.split(\"_\")[0].upper())\n",
    "    plt.show()\n",
    "    return\n",
    "            \n",
    "run_analysis(data,[\"age_encoded\",\"ethnicity_encoded\",\"gender_encoded\"])\n",
    "    "
   ]
  },
  {
   "cell_type": "code",
   "execution_count": null,
   "metadata": {},
   "outputs": [],
   "source": []
  }
 ],
 "metadata": {
  "colab": {
   "collapsed_sections": [],
   "name": "Neural Network Code",
   "provenance": []
  },
  "kernelspec": {
   "display_name": "Python 3",
   "language": "python",
   "name": "python3"
  },
  "language_info": {
   "codemirror_mode": {
    "name": "ipython",
    "version": 3
   },
   "file_extension": ".py",
   "mimetype": "text/x-python",
   "name": "python",
   "nbconvert_exporter": "python",
   "pygments_lexer": "ipython3",
   "version": "3.7.6"
  }
 },
 "nbformat": 4,
 "nbformat_minor": 1
}
